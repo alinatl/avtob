{
  "nbformat": 4,
  "nbformat_minor": 0,
  "metadata": {
    "colab": {
      "name": "hw2.ipynb",
      "provenance": [],
      "collapsed_sections": []
    },
    "kernelspec": {
      "name": "python3",
      "display_name": "Python 3"
    }
  },
  "cells": [
    {
      "cell_type": "code",
      "metadata": {
        "colab": {
          "base_uri": "https://localhost:8080/"
        },
        "id": "D9VS402x5Ot6",
        "outputId": "ebc93f0c-5fc2-4e3a-dd67-3903c4ae3913"
      },
      "source": [
        "!pip install summa"
      ],
      "execution_count": 26,
      "outputs": [
        {
          "output_type": "stream",
          "text": [
            "Collecting summa\n",
            "\u001b[?25l  Downloading https://files.pythonhosted.org/packages/45/3b/1c7dc435d05aef474c4137328400f1e11787b9bffab1f87a3f160c1fef54/summa-1.2.0.tar.gz (54kB)\n",
            "\r\u001b[K     |██████                          | 10kB 10.3MB/s eta 0:00:01\r\u001b[K     |████████████                    | 20kB 15.0MB/s eta 0:00:01\r\u001b[K     |██████████████████              | 30kB 10.4MB/s eta 0:00:01\r\u001b[K     |███████████████████████▉        | 40kB 8.6MB/s eta 0:00:01\r\u001b[K     |█████████████████████████████▉  | 51kB 4.2MB/s eta 0:00:01\r\u001b[K     |████████████████████████████████| 61kB 2.8MB/s \n",
            "\u001b[?25hRequirement already satisfied: scipy>=0.19 in /usr/local/lib/python3.6/dist-packages (from summa) (1.4.1)\n",
            "Requirement already satisfied: numpy>=1.13.3 in /usr/local/lib/python3.6/dist-packages (from scipy>=0.19->summa) (1.18.5)\n",
            "Building wheels for collected packages: summa\n",
            "  Building wheel for summa (setup.py) ... \u001b[?25l\u001b[?25hdone\n",
            "  Created wheel for summa: filename=summa-1.2.0-cp36-none-any.whl size=54411 sha256=4cf89af24b8d55db6b0caf7bd14c163cefb4c2e5c63029ad39fe83635a199407\n",
            "  Stored in directory: /root/.cache/pip/wheels/6a/09/68/e2f2861c01d86407c3fa5220826ed7eed2abaa56b001be5970\n",
            "Successfully built summa\n",
            "Installing collected packages: summa\n",
            "Successfully installed summa-1.2.0\n"
          ],
          "name": "stdout"
        }
      ]
    },
    {
      "cell_type": "code",
      "metadata": {
        "colab": {
          "base_uri": "https://localhost:8080/"
        },
        "id": "u5DX8_gq4Gh_",
        "outputId": "c909e4ed-5e8b-4cbe-c4b8-623c00d2bd69"
      },
      "source": [
        "!pip install python-rake\n",
        "!pip install pymorphy2"
      ],
      "execution_count": 9,
      "outputs": [
        {
          "output_type": "stream",
          "text": [
            "Collecting python-rake\n",
            "  Downloading https://files.pythonhosted.org/packages/82/ec/7bd2a30264f0ec38a8a8f857fc4e6c73402c623fff3b9061fe4e790ad5e7/python_rake-1.5.0-py3-none-any.whl\n",
            "Installing collected packages: python-rake\n",
            "Successfully installed python-rake-1.5.0\n"
          ],
          "name": "stdout"
        }
      ]
    },
    {
      "cell_type": "code",
      "metadata": {
        "colab": {
          "base_uri": "https://localhost:8080/"
        },
        "id": "H5_HYvs736eR",
        "outputId": "ccbb7153-011a-499f-809b-1c35d9d5addf"
      },
      "source": [
        "!pip install simplejson"
      ],
      "execution_count": 2,
      "outputs": [
        {
          "output_type": "stream",
          "text": [
            "Collecting simplejson\n",
            "\u001b[?25l  Downloading https://files.pythonhosted.org/packages/73/96/1e6b19045375890068d7342cbe280dd64ae73fd90b9735b5efb8d1e044a1/simplejson-3.17.2-cp36-cp36m-manylinux2010_x86_64.whl (127kB)\n",
            "\r\u001b[K     |██▋                             | 10kB 16.4MB/s eta 0:00:01\r\u001b[K     |█████▏                          | 20kB 12.7MB/s eta 0:00:01\r\u001b[K     |███████▊                        | 30kB 10.2MB/s eta 0:00:01\r\u001b[K     |██████████▎                     | 40kB 8.6MB/s eta 0:00:01\r\u001b[K     |████████████▉                   | 51kB 4.4MB/s eta 0:00:01\r\u001b[K     |███████████████▍                | 61kB 4.7MB/s eta 0:00:01\r\u001b[K     |██████████████████              | 71kB 4.9MB/s eta 0:00:01\r\u001b[K     |████████████████████▌           | 81kB 5.4MB/s eta 0:00:01\r\u001b[K     |███████████████████████         | 92kB 5.4MB/s eta 0:00:01\r\u001b[K     |█████████████████████████▋      | 102kB 5.9MB/s eta 0:00:01\r\u001b[K     |████████████████████████████▏   | 112kB 5.9MB/s eta 0:00:01\r\u001b[K     |██████████████████████████████▊ | 122kB 5.9MB/s eta 0:00:01\r\u001b[K     |████████████████████████████████| 133kB 5.9MB/s \n",
            "\u001b[?25hInstalling collected packages: simplejson\n",
            "Successfully installed simplejson-3.17.2\n"
          ],
          "name": "stdout"
        }
      ]
    },
    {
      "cell_type": "code",
      "metadata": {
        "colab": {
          "base_uri": "https://localhost:8080/"
        },
        "id": "_zGM8QQW4J7J",
        "outputId": "2b549729-a711-400a-8eec-046ee85b3601"
      },
      "source": [
        "import RAKE\n",
        "import nltk\n",
        "nltk.download('stopwords')\n",
        "from nltk.corpus import stopwords\n",
        "from pymorphy2 import MorphAnalyzer\n",
        "from pymorphy2.tokenizers import simple_word_tokenize\n",
        "stop = stopwords.words('english')\n",
        "from summa import keywords\n",
        "from gensim.summarization import keywords as kw\n",
        "rake = RAKE.Rake(stop)\n",
        "import gzip\n",
        "import simplejson\n",
        "import pandas as pd\n",
        "import re\n",
        "\n",
        "from nltk.tokenize import RegexpTokenizer\n",
        "tokenizer = RegexpTokenizer(r'\\w+')"
      ],
      "execution_count": 130,
      "outputs": [
        {
          "output_type": "stream",
          "text": [
            "[nltk_data] Downloading package stopwords to /root/nltk_data...\n",
            "[nltk_data]   Package stopwords is already up-to-date!\n"
          ],
          "name": "stdout"
        }
      ]
    },
    {
      "cell_type": "code",
      "metadata": {
        "id": "qr2XV3cy37mi"
      },
      "source": [
        "def parse(filename, r):\n",
        "    f = gzip.open(filename, r)\n",
        "    entry = {}\n",
        "    for l in f:\n",
        "        l = l.strip()\n",
        "        colonPos = l.find(b':')\n",
        "        if colonPos == -1:\n",
        "            yield entry\n",
        "            entry = {}\n",
        "            continue\n",
        "        eName = l[:colonPos].decode('utf-8')\n",
        "        rest = l[colonPos+2:].decode('utf-8')\n",
        "        entry[eName] = rest\n",
        "    yield entry"
      ],
      "execution_count": 127,
      "outputs": []
    },
    {
      "cell_type": "code",
      "metadata": {
        "id": "JTh7l-Jd3_08"
      },
      "source": [
        "d = []\n",
        "for e in parse(\"Musical_Instruments.txt.gz\", 'r'):\n",
        "    d.append(e)\n",
        "data = pd.DataFrame.from_dict(d)"
      ],
      "execution_count": 128,
      "outputs": []
    },
    {
      "cell_type": "code",
      "metadata": {
        "id": "EuXyIhiD4Csl"
      },
      "source": [
        "# беру не все данные, потому что долго работает код\n",
        "data = data[:10000]"
      ],
      "execution_count": 133,
      "outputs": []
    },
    {
      "cell_type": "markdown",
      "metadata": {
        "id": "7ji5R7vA4FXZ"
      },
      "source": [
        "1) Использовать синтаксичскую разметку, а не хардкодить через биграммы, то есть искать существительные (NOUN) с зависимым именем собственным (PROPN)\n",
        "\n",
        "2) Найти ключевые слова в корпусе текстов (лист 1). составить словарь именованных сущностей с помощью синтаксического парсера (лист 2) найти пересечение этих двух листов (лист словарь), расширить словарь с помощью эмбедингов\n",
        "\n",
        "3) Найти ключевые слова для каждого товара (по всем комментариям, описывающим данный товар), найти их пересечение со словами, из названия продукта (лист упоминаний) Этот способ я буду реализовывать "
      ]
    },
    {
      "cell_type": "code",
      "metadata": {
        "id": "rBIXDhN94Lgq"
      },
      "source": [
        "m = MorphAnalyzer()\n",
        "def normalize_text(text):\n",
        "    lemmas = []\n",
        "    for t in simple_word_tokenize(text):\n",
        "        lemmas.append(\n",
        "            m.parse(t)[0].normal_form\n",
        "        )\n",
        "    return ' '.join(lemmas)"
      ],
      "execution_count": 17,
      "outputs": []
    },
    {
      "cell_type": "code",
      "metadata": {
        "id": "yjfhOSOnXF1X"
      },
      "source": [
        "def split_text(a):\n",
        "    b = a.copy()\n",
        "    for s in b:\n",
        "        if ' ' in s:\n",
        "            b += s.split()\n",
        "    return b"
      ],
      "execution_count": 138,
      "outputs": []
    },
    {
      "cell_type": "code",
      "metadata": {
        "id": "isMCRXR15HkQ"
      },
      "source": [
        "list_keys_names = {}\n",
        "\n",
        "for name in data['product/title'].unique():\n",
        "    df = data['review/text'][data['product/title'] == name].to_list()\n",
        "    corpus = ' '.join(df)\n",
        "\n",
        "    keys_summa = keywords.keywords(normalize_text(corpus), language='english', additional_stopwords=stop).split('\\n')\n",
        "    keys_textrank = kw(normalize_text(corpus), pos_filter=[], scores = False).split('\\n')\n",
        "    keys_rake = rake.run(normalize_text(corpus), minFrequency=2, maxWords=3)\n",
        "    keys_rake = [x[0] for x in keys_rake]\n",
        "\n",
        "\n",
        "    keys = keys_summa + keys_textrank + keys_rake\n",
        "    names_tov = str(name).lower().split(' ')\n",
        "    set_names = set(names_tov) & set(split_text(keys))\n",
        "    list_keys_names[name] = list(set_names)\n",
        "\n",
        "\n",
        "\n",
        "# list_keys_names"
      ],
      "execution_count": 261,
      "outputs": []
    },
    {
      "cell_type": "code",
      "metadata": {
        "id": "CVrgPR70015E"
      },
      "source": [
        "# list_keys_names"
      ],
      "execution_count": 264,
      "outputs": []
    },
    {
      "cell_type": "markdown",
      "metadata": {
        "id": "mLxRBDPg03jO"
      },
      "source": [
        "list_mentions - список упоминаний товаров в отзывах"
      ]
    },
    {
      "cell_type": "code",
      "metadata": {
        "id": "RhIo-hHb5SgC"
      },
      "source": [
        "list_mentions = []\n",
        "for v in list_keys_names.values():\n",
        " list_mentions += v"
      ],
      "execution_count": 265,
      "outputs": []
    },
    {
      "cell_type": "markdown",
      "metadata": {
        "id": "DYdmBBiP1P5a"
      },
      "source": [
        "collocations - список слов из list_mentions с правым и левым контекстом для каждого\n",
        "\n",
        "texts - список со списками лемм каждого предложения (пригодится для коллокаций)"
      ]
    },
    {
      "cell_type": "code",
      "metadata": {
        "id": "YSLZmsVsqhAQ"
      },
      "source": [
        "def normalize(text):\n",
        "    # Take input text and return list of lemmas\n",
        "    lemmas = []\n",
        "    for t in tokenizer.tokenize(text):\n",
        "        lemmas.append(m.parse(t)[0].normal_form)\n",
        "    return lemmas"
      ],
      "execution_count": 266,
      "outputs": []
    },
    {
      "cell_type": "code",
      "metadata": {
        "id": "WJTZz4opc4nK"
      },
      "source": [
        "collocations = []\n",
        "texts = []\n",
        "\n",
        "list_not_null_mentions = {}\n",
        "for k, v in list_keys_names.items():\n",
        "  if v != []:\n",
        "    list_not_null_mentions[k] = v\n",
        "\n",
        "for key, value in list_not_null_mentions.items():\n",
        "  little_data = ' '.join(data['review/text'][data['product/title'] == key])\n",
        "  texts.append(normalize(little_data))\n",
        "  for word in value:\n",
        "    \n",
        "      left_cont = re.findall(r'\\b\\w+\\b\\s' + word, little_data.lower())\n",
        "      right_cont = re.findall(word + r'\\s\\b\\w+\\b', little_data.lower())\n",
        "      collocations += left_cont + right_cont"
      ],
      "execution_count": 267,
      "outputs": []
    },
    {
      "cell_type": "markdown",
      "metadata": {
        "id": "9lAvh2NT19cG"
      },
      "source": [
        "set_collocations - множество коллокаций с упоминанием названия продукта"
      ]
    },
    {
      "cell_type": "code",
      "metadata": {
        "id": "5Nxij588c8zf"
      },
      "source": [
        "set_collocations = set(collocations)"
      ],
      "execution_count": 268,
      "outputs": []
    },
    {
      "cell_type": "code",
      "metadata": {
        "id": "2zgfkpHwjYfU"
      },
      "source": [
        "from nltk.collocations import BigramAssocMeasures, BigramCollocationFinder"
      ],
      "execution_count": 269,
      "outputs": []
    },
    {
      "cell_type": "code",
      "metadata": {
        "id": "6mmvqZOMl-4O"
      },
      "source": [
        "bigram_measures = BigramAssocMeasures()\n",
        "finder2 = BigramCollocationFinder.from_documents(texts)"
      ],
      "execution_count": 270,
      "outputs": []
    },
    {
      "cell_type": "markdown",
      "metadata": {
        "id": "fhWAPhlE2lPY"
      },
      "source": [
        "функция взвращает пересечение set_collocations и списка всех коллокаций"
      ]
    },
    {
      "cell_type": "code",
      "metadata": {
        "id": "yBHey9ymppsm"
      },
      "source": [
        "def find_set(finder):\n",
        "  itog = []\n",
        "  for cort in finder:\n",
        "    w2 = cort[0][0] + ' ' + cort[0][1]\n",
        "    if w2 in set_collocations:\n",
        "      itog.append(cort)\n",
        "  return itog "
      ],
      "execution_count": 272,
      "outputs": []
    },
    {
      "cell_type": "code",
      "metadata": {
        "id": "utpyr1HMqRqB"
      },
      "source": [
        "finder = finder2.score_ngrams(bigram_measures.likelihood_ratio)"
      ],
      "execution_count": 281,
      "outputs": []
    },
    {
      "cell_type": "code",
      "metadata": {
        "colab": {
          "base_uri": "https://localhost:8080/"
        },
        "id": "UHltEhCVqUIS",
        "outputId": "0a7f1260-bedb-49e7-8dd3-f29a3f466822"
      },
      "source": [
        "find_set(finder)[:20]"
      ],
      "execution_count": 282,
      "outputs": [
        {
          "output_type": "execute_result",
          "data": {
            "text/plain": [
              "[(('to', 'play'), 3407.9514694145687),\n",
              " (('these', 'strings'), 2574.630290954189),\n",
              " (('set', 'up'), 2004.1761717667566),\n",
              " (('the', 'sound'), 1703.519655308398),\n",
              " (('long', 'time'), 1580.9723689628072),\n",
              " (('les', 'paul'), 1430.1748863249354),\n",
              " (('acoustic', 'guitar'), 1388.7524918884912),\n",
              " (('this', 'guitar'), 1200.2900212974591),\n",
              " (('gig', 'bag'), 1139.0055797762145),\n",
              " (('the', 'box'), 1129.4870482851147),\n",
              " (('music', 'store'), 1045.9807154120049),\n",
              " (('set', 'of'), 1005.3379774781506),\n",
              " (('the', 'neck'), 992.3495827144001),\n",
              " (('porcupine', 'tree'), 977.4998847653357),\n",
              " (('this', 'pedal'), 956.5572217306268),\n",
              " (('heavy', 'duty'), 954.0723979027337),\n",
              " (('the', 'first'), 947.4268789377857),\n",
              " (('to', 'learn'), 936.554496066292),\n",
              " (('phosphor', 'bronze'), 924.9780962361117),\n",
              " (('power', 'supply'), 911.8135568114358)]"
            ]
          },
          "metadata": {
            "tags": []
          },
          "execution_count": 282
        }
      ]
    },
    {
      "cell_type": "code",
      "metadata": {
        "id": "WCQvvNE3tpSA"
      },
      "source": [
        "finder = finder2.score_ngrams(bigram_measures.pmi)"
      ],
      "execution_count": 283,
      "outputs": []
    },
    {
      "cell_type": "code",
      "metadata": {
        "colab": {
          "base_uri": "https://localhost:8080/"
        },
        "id": "d3VdHidSwPCJ",
        "outputId": "2a2718e8-3940-400f-b8d9-2261b410f236"
      },
      "source": [
        "find_set(finder)[:20]"
      ],
      "execution_count": 284,
      "outputs": [
        {
          "output_type": "execute_result",
          "data": {
            "text/plain": [
              "[(('chili', 'peppers'), 19.77454900969144),\n",
              " (('kinte', 'kloth'), 19.77454900969144),\n",
              " (('squawky', 'shawm'), 19.77454900969144),\n",
              " (('ems', 'rosa'), 18.77454900969144),\n",
              " (('louis', 'vuitton'), 18.77454900969144),\n",
              " (('bluetake', 'bt450rx'), 18.189586508970287),\n",
              " (('lp634', 'cricket'), 18.189586508970287),\n",
              " (('rue', 'lepic'), 18.189586508970287),\n",
              " (('dangly', 'earrings'), 18.189586508970283),\n",
              " (('desgraciadamente', 'lm'), 18.189586508970283),\n",
              " (('dimarzio', 'x2n'), 18.189586508970283),\n",
              " (('micheal', 'kelly'), 18.189586508970283),\n",
              " (('onyx', '1220'), 18.189586508970283),\n",
              " (('pinkburst', 'playmate'), 18.189586508970283),\n",
              " (('rikki', 'rockett'), 18.189586508970283),\n",
              " (('20c', 'rocky'), 17.77454900969144),\n",
              " (('dunbar', 'polypencos'), 17.77454900969144),\n",
              " (('jp', 'boneyard'), 17.77454900969144),\n",
              " (('robelli', 'w4103fcs'), 17.77454900969144),\n",
              " (('vuitton', 'waltz'), 17.77454900969144)]"
            ]
          },
          "metadata": {
            "tags": []
          },
          "execution_count": 284
        }
      ]
    },
    {
      "cell_type": "code",
      "metadata": {
        "id": "sdibO2CCw291"
      },
      "source": [
        "finder = finder2.score_ngrams(bigram_measures.dice)"
      ],
      "execution_count": 285,
      "outputs": []
    },
    {
      "cell_type": "code",
      "metadata": {
        "colab": {
          "base_uri": "https://localhost:8080/"
        },
        "id": "XiH-cq4yxB4c",
        "outputId": "6ce4f5f2-9189-42ad-9928-ce1ef25aa47e"
      },
      "source": [
        "itog = find_set(finder)\n",
        "itog[:20]"
      ],
      "execution_count": 286,
      "outputs": [
        {
          "output_type": "execute_result",
          "data": {
            "text/plain": [
              "[(('chili', 'peppers'), 1.0),\n",
              " (('kinte', 'kloth'), 1.0),\n",
              " (('squawky', 'shawm'), 1.0),\n",
              " (('vic', 'firth'), 0.95),\n",
              " (('hal', 'leonard'), 0.9230769230769231),\n",
              " (('les', 'paul'), 0.896969696969697),\n",
              " (('oscar', 'schmidt'), 0.8888888888888888),\n",
              " (('ridge', 'rider'), 0.8888888888888888),\n",
              " (('porcupine', 'tree'), 0.8521739130434782),\n",
              " (('ralph', 'hardimon'), 0.8333333333333334),\n",
              " (('austin', 'bazaar'), 0.8),\n",
              " (('bluetake', 'bt450rx'), 0.8),\n",
              " (('lp634', 'cricket'), 0.8),\n",
              " (('rue', 'lepic'), 0.8),\n",
              " (('zakk', 'wylde'), 0.782608695652174),\n",
              " (('seymour', 'duncan'), 0.7647058823529411),\n",
              " (('parasite', 'eve'), 0.7586206896551724),\n",
              " (('lee', 'oskar'), 0.75),\n",
              " (('tuna', 'melt'), 0.75),\n",
              " (('ems', 'rosa'), 0.6666666666666666)]"
            ]
          },
          "metadata": {
            "tags": []
          },
          "execution_count": 286
        }
      ]
    },
    {
      "cell_type": "markdown",
      "metadata": {
        "id": "5_nseAmE3S_C"
      },
      "source": [
        "музыкальные инструменты часто называют именами известных музыкантов, в названии встречаются слова как-то характеризующие инструмент, например \"детская черная гитара\". Это усложняет поиск упоминаний продукта в комментариях.\n",
        "\n",
        "таким образом, мера Дайса на мой взгляд лучшим образом ранжирует коллокации"
      ]
    },
    {
      "cell_type": "code",
      "metadata": {
        "id": "HagrT-AQxEVW"
      },
      "source": [
        "def find_top(finder, list_words):\n",
        "  itog = []\n",
        "  for word in list_words:\n",
        "    print('\\n', word, '\\n')\n",
        "    for cort in finder:\n",
        "      if (cort[0][0] == word) or (cort[0][1] == word):\n",
        "        itog.append(cort)\n",
        "        print(cort[0][0] + ' ' + cort[0][1])\n",
        "  return itog "
      ],
      "execution_count": 259,
      "outputs": []
    },
    {
      "cell_type": "markdown",
      "metadata": {
        "id": "jWYsyR9g4XHk"
      },
      "source": [
        "выводит слова, относящиеся к ['pickup', 'hot', 'pedal', 'effects', 'danelectro']"
      ]
    },
    {
      "cell_type": "code",
      "metadata": {
        "colab": {
          "base_uri": "https://localhost:8080/"
        },
        "id": "OehedDXXybC_",
        "outputId": "004e6567-d020-4ac0-d6e1-e8ce3eba3c5e"
      },
      "source": [
        "list_words_to_show = list_mentions[:5]\n",
        "list_top = find_top(finder, list_words_to_show)"
      ],
      "execution_count": 260,
      "outputs": [
        {
          "output_type": "stream",
          "text": [
            "\n",
            " hot \n",
            "\n",
            "hot rod\n",
            "hot tub\n",
            "hot rails\n",
            "hot shoe\n",
            "hot head\n",
            "virtual hot\n",
            "hot car\n",
            "digitech hot\n",
            "blazing hot\n",
            "hot chili\n",
            "hot paf\n",
            "hot potato\n",
            "hot masters\n",
            "ford hot\n",
            "boiling hot\n",
            "1b hot\n",
            "deville hot\n",
            "hot knife\n",
            "aforementioned hot\n",
            "hot swapping\n",
            "hot resulting\n",
            "hot summer\n",
            "hot weather\n",
            "hot leads\n",
            "hot stack\n",
            "hot wired\n",
            "running hot\n",
            "harps hot\n",
            "hot axe\n",
            "hot house\n",
            "hot pin\n",
            "hot glue\n",
            "fender hot\n",
            "run hot\n",
            "hot water\n",
            "strat hot\n",
            "hot bridge\n",
            "too hot\n",
            "red hot\n",
            "hot doing\n",
            "hot digital\n",
            "support hot\n",
            "hot plug\n",
            "hot room\n",
            "hot days\n",
            "big hot\n",
            "hot quite\n",
            "quite hot\n",
            "very hot\n",
            "hot even\n",
            "never hot\n",
            "hot at\n",
            "hot buy\n",
            "hot when\n",
            "hot amp\n",
            "little hot\n",
            "hot also\n",
            "hot there\n",
            "so hot\n",
            "the hot\n",
            "your hot\n",
            "get hot\n",
            "as hot\n",
            "a hot\n",
            "hot or\n",
            "or hot\n",
            "one hot\n",
            "hot so\n",
            "my hot\n",
            "hot that\n",
            "hot and\n",
            "are hot\n",
            "hot as\n",
            "s hot\n",
            "is hot\n",
            "on hot\n",
            "hot in\n",
            "hot i\n",
            "and hot\n",
            "hot this\n",
            "hot to\n",
            "to hot\n",
            "hot it\n",
            "\n",
            " pickup \n",
            "\n",
            "bridge pickup\n",
            "pickup pattern\n",
            "neck pickup\n",
            "piezo pickup\n",
            "pickup selector\n",
            "magnetic pickup\n",
            "pickup warmer\n",
            "rear pickup\n",
            "jazz pickup\n",
            "pickup alone\n",
            "each pickup\n",
            "buckled pickup\n",
            "dirtyfinger pickup\n",
            "pickup chrometo\n",
            "realist pickup\n",
            "mag pickup\n",
            "anniversary pickup\n",
            "carvin pickup\n",
            "soundhole pickup\n",
            "pickup dobro\n",
            "rails pickup\n",
            "pickup itself\n",
            "western pickup\n",
            "baggs pickup\n",
            "hz pickup\n",
            "pickup swap\n",
            "humbucker pickup\n",
            "pickup housing\n",
            "bolts pickup\n",
            "performer pickup\n",
            "cardioid pickup\n",
            "modeling pickup\n",
            "manufactured pickup\n",
            "pickup bracket\n",
            "pickup areas\n",
            "passive pickup\n",
            "same pickup\n",
            "pickup virtual\n",
            "telecaster pickup\n",
            "closer pickup\n",
            "narrow pickup\n",
            "tele pickup\n",
            "pickup volumes\n",
            "pickup wires\n",
            "cello pickup\n",
            "fitting pickup\n",
            "pickup selection\n",
            "pickup bonus\n",
            "pickup brass\n",
            "pickup indeed\n",
            "dream pickup\n",
            "round pickup\n",
            "pickup combination\n",
            "pickup bands\n",
            "pickup mounting\n",
            "strat pickup\n",
            "pickup area\n",
            "vintage pickup\n",
            "sweet pickup\n",
            "pickup custom\n",
            "pickup screws\n",
            "pickup cover\n",
            "pickup installed\n",
            "stock pickup\n",
            "pickup helps\n",
            "middle pickup\n",
            "center pickup\n",
            "pickup mount\n",
            "main pickup\n",
            "pickup fit\n",
            "broken pickup\n",
            "fantastic pickup\n",
            "pickup choice\n",
            "pickup into\n",
            "single pickup\n",
            "fender pickup\n",
            "style pickup\n",
            "open pickup\n",
            "pickup along\n",
            "pickup inside\n",
            "pickup together\n",
            "pickup stereo\n",
            "pickup switch\n",
            "pickup does\n",
            "this pickup\n",
            "awesome pickup\n",
            "pickup although\n",
            "sounding pickup\n",
            "standard pickup\n",
            "stars pickup\n",
            "pickup has\n",
            "pickup system\n",
            "pickup almost\n",
            "line pickup\n",
            "pickup anything\n",
            "pickup which\n",
            "pickup once\n",
            "pickup sounds\n",
            "pickup seems\n",
            "pickup where\n",
            "pickup far\n",
            "pickup came\n",
            "pickup volume\n",
            "any pickup\n",
            "pickup should\n",
            "pickup before\n",
            "pickup without\n",
            "your pickup\n",
            "acoustic pickup\n",
            "pickup also\n",
            "pickup in\n",
            "d pickup\n",
            "right pickup\n",
            "great pickup\n",
            "pickup there\n",
            "3 pickup\n",
            "best pickup\n",
            "pickup is\n",
            "new pickup\n",
            "pickup then\n",
            "pickup how\n",
            "pickup than\n",
            "pickup were\n",
            "the pickup\n",
            "pickup or\n",
            "pickup will\n",
            "pickup works\n",
            "pickup too\n",
            "first pickup\n",
            "pickup so\n",
            "my pickup\n",
            "pickup easy\n",
            "pickup was\n",
            "pickup set\n",
            "pickup by\n",
            "pickup for\n",
            "pickup better\n",
            "or pickup\n",
            "pickup play\n",
            "pickup quality\n",
            "other pickup\n",
            "pickup really\n",
            "pickup sound\n",
            "pickup one\n",
            "pickup very\n",
            "pickup and\n",
            "pickup but\n",
            "pickup on\n",
            "pickup this\n",
            "pickup from\n",
            "pickup just\n",
            "a pickup\n",
            "pickup at\n",
            "pickup can\n",
            "pickup great\n",
            "sound pickup\n",
            "pickup i\n",
            "so pickup\n",
            "in pickup\n",
            "pickup with\n",
            "pickup they\n",
            "pickup that\n",
            "as pickup\n",
            "s pickup\n",
            "pickup to\n",
            "pickup it\n",
            "not pickup\n",
            "pickup not\n",
            "on pickup\n",
            "and pickup\n",
            "pickup a\n",
            "with pickup\n",
            "pickup the\n",
            "of pickup\n",
            "pickup of\n",
            "\n",
            " road \n",
            "\n",
            "rocky road\n",
            "road runner\n",
            "road spin\n",
            "lonely road\n",
            "typo road\n",
            "road henry\n",
            "road crew\n",
            "road trips\n",
            "touring road\n",
            "road worthy\n",
            "road proof\n",
            "road trip\n",
            "road gigs\n",
            "road ready\n",
            "road series\n",
            "road cannot\n",
            "road however\n",
            "road mine\n",
            "heavy road\n",
            "bag road\n",
            "road box\n",
            "small road\n",
            "high road\n",
            "long road\n",
            "road pedal\n",
            "road tone\n",
            "road sounds\n",
            "road or\n",
            "road been\n",
            "the road\n",
            "road case\n",
            "road as\n",
            "road up\n",
            "road when\n",
            "road use\n",
            "road very\n",
            "road so\n",
            "road they\n",
            "a road\n",
            "on road\n",
            "road on\n",
            "road and\n",
            "road in\n",
            "road with\n",
            "road you\n",
            "road i\n",
            "road it\n",
            "road this\n",
            "of road\n",
            "road of\n",
            "it road\n",
            "road the\n",
            "\n",
            " effects \n",
            "\n",
            "multi effects\n",
            "effects pedals\n",
            "effects loop\n",
            "effects pedal\n",
            "effects processor\n",
            "adding effects\n",
            "special effects\n",
            "mixing effects\n",
            "mini effects\n",
            "directx effects\n",
            "programmable effects\n",
            "handful effects\n",
            "onboard effects\n",
            "leslie effects\n",
            "effects processing\n",
            "harmony effects\n",
            "stomp effects\n",
            "behringer effects\n",
            "stereo effects\n",
            "10 effects\n",
            "individual effects\n",
            "delay effects\n",
            "vocal effects\n",
            "negative effects\n",
            "effects etc\n",
            "effects unit\n",
            "effects such\n",
            "useful effects\n",
            "different effects\n",
            "board effects\n",
            "sound effects\n",
            "effects are\n",
            "video effects\n",
            "digital effects\n",
            "type effects\n",
            "add effects\n",
            "own effects\n",
            "distortion effects\n",
            "effects distortion\n",
            "accellerated effects\n",
            "effects libraryis\n",
            "effects oscillators\n",
            "effects simulations\n",
            "freaky effects\n",
            "muti effects\n",
            "stylistic effects\n",
            "superposition effects\n",
            "transister effects\n",
            "unlock effects\n",
            "effects chains\n",
            "effects graphically\n",
            "gbs effects\n",
            "simultaneous effects\n",
            "rockin effects\n",
            "effects experimentation\n",
            "realtime effects\n",
            "swell effects\n",
            "dsp effects\n",
            "effects plugins\n",
            "ill effects\n",
            "effects dramatic\n",
            "effects engine\n",
            "effects jeff\n",
            "effects processors\n",
            "effects returns\n",
            "extensive effects\n",
            "shifting effects\n",
            "dod effects\n",
            "effects pan\n",
            "mediocre effects\n",
            "pedalboard effects\n",
            "effects sends\n",
            "featured effects\n",
            "fi effects\n",
            "effects editor\n",
            "fewer effects\n",
            "effects individually\n",
            "extreme effects\n",
            "premium effects\n",
            "effects console\n",
            "effects modules\n",
            "effects twelve\n",
            "quieter effects\n",
            "several effects\n",
            "twelve effects\n",
            "effects breath\n",
            "grain effects\n",
            "sounds effects\n",
            "effects covering\n",
            "effects measure\n",
            "greatly effects\n",
            "apply effects\n",
            "echo effects\n",
            "effects chain\n",
            "lighting effects\n",
            "fancy effects\n",
            "effects loops\n",
            "loops effects\n",
            "effects stomp\n",
            "effects voices\n",
            "effects preamps\n",
            "effects samples\n",
            "effects ive\n",
            "effects mechanism\n",
            "realistic effects\n",
            "scratching effects\n",
            "their effects\n",
            "internal effects\n",
            "effects constantly\n",
            "interesting effects\n",
            "cabinet effects\n",
            "effects stopped\n",
            "2nd effects\n",
            "advanced effects\n",
            "effects chorus\n",
            "compare effects\n",
            "presets effects\n",
            "multiple effects\n",
            "effects delay\n",
            "limited effects\n",
            "effects reverb\n",
            "reverb effects\n",
            "changing effects\n",
            "separate effects\n",
            "digitech effects\n",
            "rack effects\n",
            "effects remember\n",
            "lead effects\n",
            "effects step\n",
            "effects mostly\n",
            "fall effects\n",
            "guitar effects\n",
            "ability effects\n",
            "effects ability\n",
            "effects taking\n",
            "effects purpose\n",
            "boss effects\n",
            "options effects\n",
            "previous effects\n",
            "effects send\n",
            "effects including\n",
            "based effects\n",
            "effects floor\n",
            "mix effects\n",
            "9 effects\n",
            "effects snare\n",
            "dj effects\n",
            "effects which\n",
            "effects board\n",
            "effects records\n",
            "an effects\n",
            "effects sometimes\n",
            "effects eq\n",
            "eq effects\n",
            "effects products\n",
            "inexpensive effects\n",
            "cool effects\n",
            "midi effects\n",
            "effects channel\n",
            "pedals effects\n",
            "many effects\n",
            "effects available\n",
            "switch effects\n",
            "turn effects\n",
            "awesome effects\n",
            "7 effects\n",
            "speaker effects\n",
            "effects e\n",
            "tone effects\n",
            "professional effects\n",
            "between effects\n",
            "effects either\n",
            "decent effects\n",
            "control effects\n",
            "effects control\n",
            "full effects\n",
            "note effects\n",
            "instruments effects\n",
            "extra effects\n",
            "effects built\n",
            "quality effects\n",
            "effects line\n",
            "line effects\n",
            "effects but\n",
            "studio effects\n",
            "effects and\n",
            "effects on\n",
            "excellent effects\n",
            "those effects\n",
            "effects all\n",
            "nice effects\n",
            "effects every\n",
            "effects software\n",
            "effects going\n",
            "more effects\n",
            "effects that\n",
            "of effects\n",
            "through effects\n",
            "effects should\n",
            "effects from\n",
            "or effects\n",
            "effects audio\n",
            "effects without\n",
            "acoustic effects\n",
            "same effects\n",
            "other effects\n",
            "think effects\n",
            "4 effects\n",
            "in effects\n",
            "some effects\n",
            "pedal effects\n",
            "effects they\n",
            "the effects\n",
            "no effects\n",
            "3 effects\n",
            "effects make\n",
            "effects into\n",
            "effects were\n",
            "your effects\n",
            "effects we\n",
            "effects off\n",
            "off effects\n",
            "2 effects\n",
            "effects 2\n",
            "effects in\n",
            "effects with\n",
            "use effects\n",
            "effects too\n",
            "amp effects\n",
            "effects amp\n",
            "effects for\n",
            "effects even\n",
            "better effects\n",
            "effects you\n",
            "and effects\n",
            "which effects\n",
            "effects or\n",
            "also effects\n",
            "effects also\n",
            "do effects\n",
            "effects this\n",
            "my effects\n",
            "effects what\n",
            "effects only\n",
            "effects some\n",
            "effects than\n",
            "effects i\n",
            "effects as\n",
            "effects your\n",
            "effects will\n",
            "has effects\n",
            "effects to\n",
            "effects get\n",
            "effects the\n",
            "effects is\n",
            "out effects\n",
            "effects not\n",
            "effects up\n",
            "effects when\n",
            "with effects\n",
            "effects like\n",
            "effects of\n",
            "good effects\n",
            "effects it\n",
            "effects can\n",
            "effects if\n",
            "great effects\n",
            "effects sound\n",
            "this effects\n",
            "effects so\n",
            "as effects\n",
            "on effects\n",
            "for effects\n",
            "effects a\n",
            "\n",
            " danelectro \n",
            "\n",
            "danelectro snack\n",
            "danelectro tuna\n",
            "danelectro pedals\n",
            "concerned danelectro\n",
            "danelectro mini\n",
            "mini danelectro\n",
            "danelectro effect\n",
            "danelectro dj\n",
            "service danelectro\n",
            "fits danelectro\n",
            "others danelectro\n",
            "danelectro pedal\n",
            "money danelectro\n",
            "danelectro who\n",
            "love danelectro\n",
            "danelectro got\n",
            "from danelectro\n",
            "danelectro because\n",
            "all danelectro\n",
            "some danelectro\n",
            "these danelectro\n",
            "danelectro can\n",
            "danelectro great\n",
            "this danelectro\n",
            "to danelectro\n",
            "danelectro this\n",
            "of danelectro\n",
            "danelectro is\n",
            "the danelectro\n",
            "a danelectro\n",
            "danelectro a\n",
            "danelectro i\n"
          ],
          "name": "stdout"
        }
      ]
    },
    {
      "cell_type": "code",
      "metadata": {
        "id": "EhIxyEpjyf8o"
      },
      "source": [
        ""
      ],
      "execution_count": null,
      "outputs": []
    }
  ]
}